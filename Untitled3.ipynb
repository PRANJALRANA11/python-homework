{
 "cells": [
  {
   "cell_type": "raw",
   "id": "b53dffd5-f60a-4717-b0d6-9391a3ff6331",
   "metadata": {},
   "source": [
    " An exception is an event, which occurs during the execution of a program that disrupts the normal flow of the program's instructions.\n",
    " "
   ]
  },
  {
   "cell_type": "code",
   "execution_count": 1,
   "id": "b51b94bd-7e0f-4fa6-9f18-f1eaf57f6a33",
   "metadata": {},
   "outputs": [
    {
     "ename": "SyntaxError",
     "evalue": "invalid syntax (4211923925.py, line 1)",
     "output_type": "error",
     "traceback": [
      "\u001b[0;36m  Cell \u001b[0;32mIn[1], line 1\u001b[0;36m\u001b[0m\n\u001b[0;31m    As you saw earlier, when syntactically correct code runs into an error, Python will throw an exception error. This exception error will crash the program if it is unhandled.\u001b[0m\n\u001b[0m       ^\u001b[0m\n\u001b[0;31mSyntaxError\u001b[0m\u001b[0;31m:\u001b[0m invalid syntax\n"
     ]
    }
   ],
   "source": [
    "As you saw earlier, when syntactically correct code runs into an error, Python will throw an exception error. This exception error will crash the program if it is unhandled.\n"
   ]
  },
  {
   "cell_type": "raw",
   "id": "611348fe-27be-4583-a04f-19685472e6f2",
   "metadata": {},
   "source": [
    "As you saw earlier, when syntactically correct code runs into an error, Python will throw an exception error. This exception error will crash the program if it is unhandled."
   ]
  },
  {
   "cell_type": "code",
   "execution_count": 6,
   "id": "42f430a0-53b1-482f-b500-639320f85170",
   "metadata": {},
   "outputs": [
    {
     "name": "stdout",
     "output_type": "stream",
     "text": [
      "[Errno 2] No such file or directory: 'test.2'\n"
     ]
    }
   ],
   "source": [
    "try:\n",
    "    fileHandler=open(\"test.2\",\"r\")\n",
    "    print(\"file opened\")\n",
    "except FileNotFoundError as e:\n",
    "    print(e)"
   ]
  },
  {
   "cell_type": "code",
   "execution_count": 11,
   "id": "aafb74be-c1a8-4b14-94af-ce20290edc39",
   "metadata": {},
   "outputs": [
    {
     "name": "stdout",
     "output_type": "stream",
     "text": [
      "[Errno 2] No such file or directory: 'tes.txt'\n",
      "file opened\n",
      "finnaly\n"
     ]
    }
   ],
   "source": [
    "try:\n",
    "    fileHandler=open(\"tes.txt\",\"r\")\n",
    "    print(\"file opened\")\n",
    "    fileHandler.close()\n",
    "except FileNotFoundError as e:\n",
    "    print(e)\n",
    "else:\n",
    "    print(\"written\")\n",
    "    \n",
    "try:\n",
    "    fileHandler=open(\"test.txt\",\"w\")\n",
    "    print(\"file opened\")\n",
    "    fileHandler.close()\n",
    "except FileNotFoundError as e:\n",
    "    print(e)\n",
    "finally:\n",
    "    print(\"finnaly\")"
   ]
  },
  {
   "cell_type": "code",
   "execution_count": 15,
   "id": "265b8eff-296a-4ecd-8ead-d7dd600a6026",
   "metadata": {},
   "outputs": [
    {
     "name": "stdout",
     "output_type": "stream",
     "text": [
      "Result: 5.0\n",
      "Error: Division by zero is not allowed.\n"
     ]
    }
   ],
   "source": [
    "def divide(a, b):\n",
    "    if b == 0:\n",
    "        raise ValueError(\"Division by zero is not allowed.\")\n",
    "    return a / b\n",
    "\n",
    "try:\n",
    "    result = divide(10, 2)  # This will work fine, no exception raised.\n",
    "    print(\"Result:\", result)\n",
    "    \n",
    "    result = divide(10, 0)  # This will raise an exception.\n",
    "    print(\"Result:\", result)  # This line won't be executed.\n",
    "except ValueError as e:\n",
    "    print(\"Error:\", str(e))  # This will catch the raised exception and print the error message.\n"
   ]
  },
  {
   "cell_type": "code",
   "execution_count": 16,
   "id": "2cdc2b22-1ced-4101-92f9-f59307c933f4",
   "metadata": {},
   "outputs": [
    {
     "name": "stdin",
     "output_type": "stream",
     "text": [
      "Enter your name:  -333\n",
      "Enter your age:  32\n"
     ]
    },
    {
     "name": "stdout",
     "output_type": "stream",
     "text": [
      "User -333 with age 32 registered successfully.\n"
     ]
    }
   ],
   "source": [
    "# Custom exception class for an invalid age input\n",
    "class InvalidAgeError(Exception):\n",
    "    def __init__(self, age):\n",
    "        self.age = age\n",
    "\n",
    "    def __str__(self):\n",
    "        return f\"InvalidAgeError: Age '{self.age}' is not valid. Age must be between 1 and 120.\"\n",
    "\n",
    "\n",
    "def register_user(name, age):\n",
    "    if not (1 <= age <= 120):\n",
    "        raise InvalidAgeError(age)\n",
    "\n",
    "    # Code to register the user (omitted in this example)\n",
    "    print(f\"User {name} with age {age} registered successfully.\")\n",
    "\n",
    "\n",
    "try:\n",
    "    name = input(\"Enter your name: \")\n",
    "    age = int(input(\"Enter your age: \"))\n",
    "    register_user(name, age)\n",
    "except ValueError:\n",
    "    print(\"Error: Invalid age format. Please enter a valid integer.\")\n",
    "except InvalidAgeError as e:\n",
    "    print(str(e))\n"
   ]
  },
  {
   "cell_type": "code",
   "execution_count": null,
   "id": "f6dfc3ea-171f-4538-866f-51e62ea87159",
   "metadata": {},
   "outputs": [],
   "source": []
  }
 ],
 "metadata": {
  "kernelspec": {
   "display_name": "Python 3 (ipykernel)",
   "language": "python",
   "name": "python3"
  },
  "language_info": {
   "codemirror_mode": {
    "name": "ipython",
    "version": 3
   },
   "file_extension": ".py",
   "mimetype": "text/x-python",
   "name": "python",
   "nbconvert_exporter": "python",
   "pygments_lexer": "ipython3",
   "version": "3.10.8"
  }
 },
 "nbformat": 4,
 "nbformat_minor": 5
}
