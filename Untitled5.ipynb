{
 "cells": [
  {
   "cell_type": "raw",
   "id": "5b458cf6-9dfc-4531-a39c-a91fef57174b",
   "metadata": {},
   "source": [
    "A database is a structured collection of data that is organized and stored in a way that allows efficient retrieval and manipulation of data. Databases are used to store, manage, and retrieve vast amounts of data in various applications.\n",
    "\n",
    "SQL (Structured Query Language) and NoSQL (Not Only SQL) are two different types of database management systems with distinct characteristics:\n",
    "\n",
    "SQL Databases:\n",
    "\n",
    "Relational: SQL databases use a tabular structure to store data in rows and columns. Data is organized into tables, and relationships between tables are defined using foreign keys.\n",
    "Schema-based: SQL databases have a fixed schema that defines the structure of the data, including the data types and constraints.\n",
    "ACID properties: SQL databases adhere to ACID (Atomicity, Consistency, Isolation, Durability) properties, ensuring data integrity and reliability.\n",
    "Examples: MySQL, PostgreSQL, Oracle, SQL Server.\n",
    "NoSQL Databases:\n",
    "\n",
    "Non-relational: NoSQL databases use various data models like key-value pairs, document-oriented, column-family, or graph databases.\n",
    "Schema-less: NoSQL databases allow flexibility in the data structure, allowing data to be stored without a predefined schema.\n",
    "CAP Theorem: NoSQL databases often prioritize either Consistency, Availability, or Partition Tolerance, and different types of NoSQL databases may offer different combinations.\n",
    "Examples: MongoDB, Cassandra, Redis, Neo4j.\n",
    "The choice between SQL and NoSQL databases depends on the specific requirements of the application, the scale of data, and the desired data model."
   ]
  },
  {
   "cell_type": "raw",
   "id": "43a43356-bfd8-4ed6-857f-6bd2d98a35cc",
   "metadata": {},
   "source": [
    "DDL stands for Data Definition Language. It is a subset of SQL used to define and manage the structure of the database and its objects, such as tables, indexes, and constraints. DDL commands do not manipulate the data itself but rather the structure of the database.\n",
    "\n",
    "CREATE: It is used to create new database objects, such as tables, views, indexes, or databases themselves.\n",
    "Example - Creating a table named \"Employees\" with columns for employee details:\n",
    "\n",
    "DROP: It is used to remove existing database objects, such as tables or databases.\n",
    "Example - Dropping the table \"Employees\" created above:\n",
    "\n",
    "ALTER: It is used to modify the structure of an existing database object, such as adding, modifying, or dropping columns in a table.\n",
    "Example - Adding a new column \"salary\" to the \"Employees\" table:\n",
    "\n",
    "TRUNCATE: It is used to remove all the data from a table, but the table structure remains intact. It is faster than the DELETE command when you want to delete all records from a table.\n",
    "Example - Truncating the \"Employees\" table:"
   ]
  },
  {
   "cell_type": "raw",
   "id": "37278231-a76f-4752-8000-b296776a6d27",
   "metadata": {},
   "source": [
    "DML stands for Data Manipulation Language. It is used to manage and manipulate data stored in the database.\n",
    "\n",
    "INSERT: It is used to insert new records into a table.\n",
    "Example - Inserting a new record into the \"Employees\" table:\n",
    "\n",
    "UPDATE: It is used to modify existing records in a table.\n",
    "Example - Updating the salary of an employee with ID 1:\n",
    "\n",
    "DELETE: It is used to remove records from a table.\n",
    "Example - Deleting an employee with ID 1 from the \"Employees\" table:"
   ]
  },
  {
   "cell_type": "raw",
   "id": "78d53505-c874-4c8f-b840-f2c28fea557d",
   "metadata": {},
   "source": [
    "DQL stands for Data Query Language. It is used to retrieve data from the database.\n",
    "\n",
    "SELECT: It is used to fetch data from one or more tables in the database based on specified conditions.\n",
    "\n",
    "Example - Selecting all employees from the \"Employees\" table:"
   ]
  },
  {
   "cell_type": "raw",
   "id": "301b6d60-d165-4c56-aaef-f3bc2f8ad372",
   "metadata": {},
   "source": [
    "Primary Key:\n",
    "\n",
    "A Primary Key is a unique identifier for each record in a database table.\n",
    "It ensures that each row in a table is uniquely identifiable.\n",
    "It is used to enforce data integrity and establish relationships between tables.\n",
    "There can be only one Primary Key per table.\n",
    "In most cases, a Primary Key is implemented using an indexed column to improve retrieval performance.\n",
    "\n",
    "A Foreign Key is a column or a set of columns in a table that refers to the Primary Key of another table.\n",
    "It establishes a link between two tables and ensures referential integrity, allowing data consistency across related tables.\n",
    "A Foreign Key constraint prevents actions that would destroy the relationships between tables (e.g., deleting a record with a Foreign Key value linked to another table)."
   ]
  },
  {
   "cell_type": "code",
   "execution_count": null,
   "id": "018ecdf9-e621-497a-bc7c-171a6d3ef827",
   "metadata": {},
   "outputs": [],
   "source": [
    "import mysql.connector\n",
    "\n",
    "# Connect to the MySQL server\n",
    "conn = mysql.connector.connect(\n",
    "    host=\"your_host\",\n",
    "    user=\"your_username\",\n",
    "    password=\"your_password\",\n",
    "    database=\"your_database\"\n",
    ")\n",
    "\n",
    "# Create a cursor object to interact with the database\n",
    "cursor = conn.cursor()\n",
    "\n",
    "# Execute a query\n",
    "query = \"SELECT * FROM Employees;\"\n",
    "cursor.execute(query)\n",
    "\n",
    "# Fetch all the results\n",
    "results = cursor.fetchall()\n",
    "\n",
    "# Display the results\n",
    "for row in results:\n",
    "    print(row)\n",
    "\n",
    "# Close the cursor and connection\n",
    "cursor.close()\n",
    "conn.close()\n"
   ]
  }
 ],
 "metadata": {
  "kernelspec": {
   "display_name": "Python 3 (ipykernel)",
   "language": "python",
   "name": "python3"
  },
  "language_info": {
   "codemirror_mode": {
    "name": "ipython",
    "version": 3
   },
   "file_extension": ".py",
   "mimetype": "text/x-python",
   "name": "python",
   "nbconvert_exporter": "python",
   "pygments_lexer": "ipython3",
   "version": "3.10.8"
  }
 },
 "nbformat": 4,
 "nbformat_minor": 5
}
