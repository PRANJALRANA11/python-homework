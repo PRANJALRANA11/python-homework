{
 "cells": [
  {
   "cell_type": "code",
   "execution_count": 10,
   "id": "5fe33b77-a1bd-4b4b-b79b-275d9f6e6235",
   "metadata": {},
   "outputs": [],
   "source": [
    "#q1\n",
    "class vehicle:\n",
    "    def name_of_vehicle(self):\n",
    "        name=\"alto\"\n",
    "    def max_speed(self):\n",
    "        mxSpeed=32\n",
    "    def average_of_vehicle(self):\n",
    "        avg=60"
   ]
  },
  {
   "cell_type": "code",
   "execution_count": 4,
   "id": "db191cbf-3240-431c-b9b9-9869f898389d",
   "metadata": {},
   "outputs": [
    {
     "name": "stdout",
     "output_type": "stream",
     "text": [
      "Vehicle Name: Sedan\n",
      "Vehicle Color: Blue\n",
      "Sedan has a seating capacity of 4.\n"
     ]
    }
   ],
   "source": [
    "#q2\n",
    "class Vehicle:\n",
    "    def __init__(self, name, color):\n",
    "        self.name = name\n",
    "        self.color = color\n",
    "\n",
    "    def display_info(self):\n",
    "        print(\"Vehicle Name:\", self.name)\n",
    "        print(\"Vehicle Color:\", self.color)\n",
    "\n",
    "\n",
    "class Car(Vehicle):\n",
    "    def seating_capacity(self, capacity):\n",
    "        return f\"{self.name} has a seating capacity of {capacity}.\"\n",
    "\n",
    "# Creating an instance of the Car class\n",
    "car = Car(\"Sedan\", \"Blue\")\n",
    "\n",
    "# Accessing the attributes from the Vehicle class\n",
    "car.display_info()\n",
    "\n",
    "# Calling the seating_capacity method from the Car class\n",
    "capacity = 4\n",
    "result = car.seating_capacity(capacity)\n",
    "print(result)\n"
   ]
  },
  {
   "cell_type": "code",
   "execution_count": 6,
   "id": "fdb1abdd-e7ab-4450-8406-a6b78bab8d93",
   "metadata": {},
   "outputs": [
    {
     "name": "stdout",
     "output_type": "stream",
     "text": [
      "This is method A\n",
      "This is method B\n",
      "This is method C\n"
     ]
    }
   ],
   "source": [
    "#q3\n",
    "class A:\n",
    "    def method_A(self):\n",
    "        print(\"This is method A\")\n",
    "\n",
    "\n",
    "class B:\n",
    "    def method_B(self):\n",
    "        print(\"This is method B\")\n",
    "\n",
    "\n",
    "class C(A, B):\n",
    "    def method_C(self):\n",
    "        print(\"This is method C\")\n",
    "\n",
    "\n",
    "# Creating an instance of the C class\n",
    "obj = C()\n",
    "\n",
    "# Accessing methods from class A\n",
    "obj.method_A()\n",
    "\n",
    "# Accessing methods from class B\n",
    "obj.method_B()\n",
    "\n",
    "# Accessing methods from class C\n",
    "obj.method_C()\n"
   ]
  },
  {
   "cell_type": "code",
   "execution_count": 7,
   "id": "3856caa0-0e21-4ddc-929b-d7c5d90576de",
   "metadata": {},
   "outputs": [
    {
     "name": "stdout",
     "output_type": "stream",
     "text": [
      "Name: John\n",
      "Updated Name: Jane\n"
     ]
    }
   ],
   "source": [
    "#q4\n",
    "class Person:\n",
    "    def __init__(self, name):\n",
    "        self._name = name\n",
    "\n",
    "    def get_name(self):\n",
    "        return self._name\n",
    "\n",
    "    def set_name(self, name):\n",
    "        self._name = name\n",
    "\n",
    "# Creating an instance of the Person class\n",
    "person = Person(\"John\")\n",
    "\n",
    "# Using the getter method to retrieve the value of the name attribute\n",
    "name = person.get_name()\n",
    "print(\"Name:\", name)\n",
    "\n",
    "# Using the setter method to set a new value for the name attribute\n",
    "person.set_name(\"Jane\")\n",
    "\n",
    "# Using the getter method again to retrieve the updated value of the name attribute\n",
    "name = person.get_name()\n",
    "print(\"Updated Name:\", name)\n"
   ]
  },
  {
   "cell_type": "code",
   "execution_count": 8,
   "id": "5dda6087-86f8-4266-be9d-6093471769a8",
   "metadata": {},
   "outputs": [
    {
     "name": "stdout",
     "output_type": "stream",
     "text": [
      "The dog barks.\n"
     ]
    }
   ],
   "source": [
    "#q5\n",
    "class Animal:\n",
    "    def make_sound(self):\n",
    "        print(\"The animal makes a sound.\")\n",
    "\n",
    "\n",
    "class Dog(Animal):\n",
    "    def make_sound(self):\n",
    "        print(\"The dog barks.\")\n",
    "\n",
    "\n",
    "# Creating an instance of the Dog class\n",
    "dog = Dog()\n",
    "\n",
    "# Calling the make_sound method of the Dog class\n",
    "dog.make_sound()\n"
   ]
  }
 ],
 "metadata": {
  "kernelspec": {
   "display_name": "Python 3 (ipykernel)",
   "language": "python",
   "name": "python3"
  },
  "language_info": {
   "codemirror_mode": {
    "name": "ipython",
    "version": 3
   },
   "file_extension": ".py",
   "mimetype": "text/x-python",
   "name": "python",
   "nbconvert_exporter": "python",
   "pygments_lexer": "ipython3",
   "version": "3.10.8"
  }
 },
 "nbformat": 4,
 "nbformat_minor": 5
}
